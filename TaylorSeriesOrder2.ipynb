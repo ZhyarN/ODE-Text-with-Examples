{
 "cells": [
  {
   "cell_type": "markdown",
   "id": "01a0d9c7",
   "metadata": {},
   "source": [
    "Example: Use the TS(2) method with a step length h = 0.1 to compute an approximate solution at t = 0.2 of the IVP\n",
    "$u′(t) = v(t)$,\n",
    "$v′(t) = t − u(t)$\n",
    "on the interval t > 0 with initial conditions u(0) = 1, v(0) = 2\n",
    "\n",
    "What we have here as a scheme is $x_{n+1}=x_{n}+h*x'_{n}+0.5*h^2x_{n}$, but we need to know the value of $x''_{n}$. So for that matter, we differentiate our given equations. We get for $u''_{n}=v'_{n} , and v''_{n}=1-u'_{n}$\n",
    "\n",
    "We can put this whole thing into a vector format, and we get:\n",
    "$[t_{n+1},u_{n+1},v_{n+1}]^T=[t_{n},u_{n},v_{n}]^T + h* [1,u'_{n},v'_{n}]^T +0.5*h^2*[0,u''_{n},v''_{n}]^T=[t_{n},u_{n},v_{n}]^T + h* [1,v_{n},1-u_{n}]^T +0.5*h^2*[0,v'_{n},-u'_{n}]^T=[t_{n},u_{n},v_{n}]^T + h* [1,v_{n},1-u_{n}]^T +0.5*h^2*[0,t_{n}-u_{n},-v_{n}]^T$"
   ]
  },
  {
   "cell_type": "code",
   "execution_count": null,
   "id": "e846fad0",
   "metadata": {},
   "outputs": [],
   "source": [
    "tuv=[[0],[1],[2]]\n",
    "\n",
    "tmax=0.2\n",
    "h=0.01\n",
    "i=0\n",
    "\n",
    "while tuv[0][i]<tmax:\n",
    "    tuv[0].append(tuv[0][i]+(h*1)+0)\n",
    "    tuv[1].append(tuv[1][i]+(h*tuv[2][i])+((tuv[0][i]-tuv[1][i])*0.5*h**2))\n",
    "    tuv[2].append(tuv[2][i]+(h*(1-tuv[1][i]))+((-tuv[2][i])*0.5*h**2))\n",
    "\n",
    "\n",
    "tuv"
   ]
  },
  {
   "cell_type": "code",
   "execution_count": null,
   "id": "b6c1b12a",
   "metadata": {},
   "outputs": [],
   "source": []
  }
 ],
 "metadata": {
  "kernelspec": {
   "display_name": "Python 3 (ipykernel)",
   "language": "python",
   "name": "python3"
  },
  "language_info": {
   "codemirror_mode": {
    "name": "ipython",
    "version": 3
   },
   "file_extension": ".py",
   "mimetype": "text/x-python",
   "name": "python",
   "nbconvert_exporter": "python",
   "pygments_lexer": "ipython3",
   "version": "3.10.12"
  }
 },
 "nbformat": 4,
 "nbformat_minor": 5
}
