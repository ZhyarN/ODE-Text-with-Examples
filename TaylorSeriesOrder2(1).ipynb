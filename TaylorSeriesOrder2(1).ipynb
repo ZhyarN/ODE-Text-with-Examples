{
 "cells": [
  {
   "cell_type": "markdown",
   "id": "01a0d9c7",
   "metadata": {},
   "source": [
    "Example: Use the TS(2) method with a step length h = 0.1 to compute an approximate solution at t = 0.2 of the IVP\n",
    "$u′(t) = v(t)$,\n",
    "$v′(t) = t − u(t)$\n",
    "on the interval t > 0 with initial conditions u(0) = 1, v(0) = 2\n",
    "\n",
    "What we have here as a scheme is $x_{n+1}=x_{n}+h*x'_{n}+0.5*h^2x_{n}$, but we need to know the value of $x''_{n}$. So for that matter, we differentiate our given equations. We get for $u''_{n}=v'_{n} , and v''_{n}=1-u'_{n}$\n",
    "\n",
    "We can put this whole thing into a vector format, and we get:\n",
    "$[t_{n+1},u_{n+1},v_{n+1}]^T=[t_{n},u_{n},v_{n}]^T + h* [1,u'_{n},v'_{n}]^T +0.5*h^2*[0,u''_{n},v''_{n}]^T=[t_{n},u_{n},v_{n}]^T + h* [1,v_{n},t_{n}-u_{n}]^T +0.5*h^2*[0,v'_{n},1-u'_{n}]^T=[t_{n},u_{n},v_{n}]^T + h* [1,v_{n},t_{n}-u_{n}]^T +0.5*h^2*[0,t_{n}-u_{n},1-v_{n}]^T$"
   ]
  },
  {
   "cell_type": "code",
   "execution_count": 1,
   "id": "e846fad0",
   "metadata": {},
   "outputs": [
    {
     "data": {
      "text/plain": [
       "[[0,\n",
       "  0.01,\n",
       "  0.02,\n",
       "  0.03,\n",
       "  0.04,\n",
       "  0.05,\n",
       "  0.060000000000000005,\n",
       "  0.07,\n",
       "  0.08,\n",
       "  0.09,\n",
       "  0.09999999999999999,\n",
       "  0.10999999999999999,\n",
       "  0.11999999999999998,\n",
       "  0.12999999999999998,\n",
       "  0.13999999999999999,\n",
       "  0.15,\n",
       "  0.16,\n",
       "  0.17,\n",
       "  0.18000000000000002,\n",
       "  0.19000000000000003,\n",
       "  0.20000000000000004],\n",
       " [1,\n",
       "  1.01995,\n",
       "  1.0397990025,\n",
       "  1.0595460225748747,\n",
       "  1.0791900854979948,\n",
       "  1.0987302268386998,\n",
       "  1.1181654925587459,\n",
       "  1.1374949391077105,\n",
       "  1.1567176335173506,\n",
       "  1.1758326534949015,\n",
       "  1.194839087515309,\n",
       "  1.2137360349123834,\n",
       "  1.2325226059688688,\n",
       "  1.2511979220054172,\n",
       "  1.2697611154684585,\n",
       "  1.2882113300169582,\n",
       "  1.3065477206080534,\n",
       "  1.3247694535815593,\n",
       "  1.342875706743338,\n",
       "  1.3608656694475185,\n",
       "  1.3787385426775651],\n",
       " [2,\n",
       "  1.9899499999999999,\n",
       "  1.9798010025,\n",
       "  1.9695540224248749,\n",
       "  1.959210084498005,\n",
       "  1.9487702231388,\n",
       "  1.9382354823592562,\n",
       "  1.9276069156595508,\n",
       "  1.9168855859226905,\n",
       "  1.906072565308221,\n",
       "  1.8951689351450063,\n",
       "  1.8841757858230959,\n",
       "  1.873094216684681,\n",
       "  1.8619253359141579,\n",
       "  1.850670260427308,\n",
       "  1.839330115759602,\n",
       "  1.8279060359536443,\n",
       "  1.8163991634457661,\n",
       "  1.8048106489517783,\n",
       "  1.7931416513518974,\n",
       "  1.7813933375748545]]"
      ]
     },
     "execution_count": 1,
     "metadata": {},
     "output_type": "execute_result"
    }
   ],
   "source": [
    "tuv=[[0],[1],[2]]\n",
    "                                                                                                                        \n",
    "tmax=0.2\n",
    "h=0.01\n",
    "i=0\n",
    "\n",
    "while tuv[0][i]<tmax:\n",
    "    tuv[0].append(tuv[0][i]+(h*1)+0)\n",
    "    tuv[1].append(tuv[1][i]+(h*tuv[2][i])+((tuv[0][i]-tuv[1][i])*0.5*h**2))\n",
    "    tuv[2].append(tuv[2][i]+(h*(tuv[0][i]-tuv[1][i]))+((1-tuv[2][i])*0.5*h**2))                               \n",
    "    i=i+1\n",
    "\n",
    "tuv"
   ]
  },
  {
   "cell_type": "code",
   "execution_count": null,
   "id": "b6c1b12a",
   "metadata": {},
   "outputs": [],
   "source": []
  }
 ],
 "metadata": {
  "kernelspec": {
   "display_name": "Python 3 (ipykernel)",
   "language": "python",
   "name": "python3"
  },
  "language_info": {
   "codemirror_mode": {
    "name": "ipython",
    "version": 3
   },
   "file_extension": ".py",
   "mimetype": "text/x-python",
   "name": "python",
   "nbconvert_exporter": "python",
   "pygments_lexer": "ipython3",
   "version": "3.10.12"
  }
 },
 "nbformat": 4,
 "nbformat_minor": 5
}
